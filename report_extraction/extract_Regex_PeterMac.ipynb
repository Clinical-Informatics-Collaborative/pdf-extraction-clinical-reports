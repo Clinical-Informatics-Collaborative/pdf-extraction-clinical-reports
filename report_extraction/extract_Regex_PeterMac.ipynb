{
 "cells": [
  {
   "cell_type": "code",
   "execution_count": 8,
   "id": "26caf0d2-cdd2-4a03-ac30-2d552b95b5f0",
   "metadata": {},
   "outputs": [
    {
     "name": "stdout",
     "output_type": "stream",
     "text": [
      "Requirement already satisfied: PyMuPDF in c:\\users\\rosa0\\anaconda3\\lib\\site-packages (1.22.2)\n"
     ]
    }
   ],
   "source": [
    "! pip install PyMuPDF\n",
    "import fitz\n",
    "a= \"\"\n",
    "b= \"18465975MDXN[20]\"\n",
    "c=\"generatedPeterMac\"\n",
    "fname = c\n",
    "# Open the PDF file\n",
    "doc = fitz.open(fname+\".pdf\")\n",
    "\n",
    "# Iterate through the pages of the PDF and extract the text\n",
    "out = open(fname + \".txt\", \"wb\")\n",
    "for page in doc:\n",
    "    text = page.get_text().encode(\"utf8\")\n",
    "    out.write(text)\n",
    "\n",
    "doc.close()\n",
    "out.close()"
   ]
  },
  {
   "cell_type": "code",
   "execution_count": 9,
   "id": "f0a52434",
   "metadata": {},
   "outputs": [
    {
     "name": "stdout",
     "output_type": "stream",
     "text": [
      "{'Patient': 'Nell Cox', 'Specimen': 'Muscle biopsy test', 'Referral Lab': 'Dorevitch Pathology', 'URN': 'PMEX347746', 'DOB': '04-Dec-1994', 'Sex': 'M', 'Lab No': '17999458', 'Ext Ref': '1745766441', 'Collected': '04-Jun-2022', 'Received': '04-Oct-2023', 'Requester': 'DrJoan Lewis'}\n"
     ]
    }
   ],
   "source": [
    "import re\n",
    "\n",
    "def extract_patient_info(text):\n",
    "    patient_info = {}\n",
    "    keyword1 = [\"Patient\",\"Specimen\",\"Referral Lab\"]\n",
    "    keyword2 = [\"URN\",\"DOB\",\"Sex\",\"Lab No\",\"Ext Ref\",\"Collected\",\"Received\",\"Requester\"]\n",
    "    for w in keyword1:\n",
    "        match = re.search(f\"(?<={w}\\s)[^\\n]*\\S\", text)\n",
    "        if match:\n",
    "            patient_info[w] = match.group().strip()\n",
    "        else:\n",
    "            patient_info[w] = \"\"\n",
    "    for w in keyword2:\n",
    "        match = re.search(f\"{w}\\s+([^\\n]+)\", text).group(1).strip()\n",
    "        if match:\n",
    "            patient_info[w] = match\n",
    "        else:\n",
    "            patient_info[w] = \"\"\n",
    "    return patient_info\n",
    "\n",
    "with open(fname + \".txt\", \"r\", encoding='utf-8') as f:\n",
    "    text = f.read()\n",
    "    patient_info = extract_patient_info(text)\n",
    "    print(patient_info)"
   ]
  },
  {
   "cell_type": "code",
   "execution_count": 10,
   "id": "c94d3b02-6cb1-4bb3-a566-c1fcccc74eeb",
   "metadata": {},
   "outputs": [
    {
     "name": "stdout",
     "output_type": "stream",
     "text": [
      "['ASSUMED ORIGIN', 'GENE', 'VARIANT', 'VRF', 'CLINICAL SIGNIFICANCE IN AML']\n",
      "[{'ASSUMED ORIGIN': 'Somatic', 'GENE': 'FLT3', 'VARIANT': 'FLT3-ITD (allelic ratio 0.76)', 'VRF': '14', 'CLINICAL SIGNIFICANCE IN AML': 'DIAGNOSTIC'}, {'ASSUMED ORIGIN': 'Eukaryotic', 'GENE': 'ALDH2', 'VARIANT': 'c.2842del, p.(Glu948Argfs*3)', 'VRF': '11', 'CLINICAL SIGNIFICANCE IN AML': 'PROGNOSTIC / DRUG TARGET'}, {'ASSUMED ORIGIN': 'Prokaryotic', 'GENE': 'CFTR', 'VARIANT': 'c.2645G>A, p.(Arg882His)', 'VRF': '11', 'CLINICAL SIGNIFICANCE IN AML': 'CLONAL MARKER'}]\n"
     ]
    }
   ],
   "source": [
    "#not finished\n",
    "\n",
    "def extract_variants(text):\n",
    "    num =0 #number of variants recorded in teh report\n",
    "    result = []\n",
    "    #remove irrelecant sections and the (%)\n",
    "    match = re.search(r\"(ASSUMED ORIGIN.*VRF – variant read frequency)\", text, flags=re.DOTALL)\n",
    "    preprocess = match.group(1)\n",
    "    preprocess = re.sub(r\"\\n\\(%\\)\", \"\", preprocess)\n",
    "    preprocess = re.sub(\"VRF – variant read frequency\", \"\", preprocess)\n",
    "    \n",
    "    # Split the preprocessed text by lines and remove empty lines\n",
    "    lines = [line.strip() for line in preprocess.split('\\n') if line.strip()]    \n",
    "    \n",
    "    #split the headers and table contents\n",
    "    header = lines[:5]\n",
    "    lines = lines[5:]\n",
    "    \n",
    "    print(header)\n",
    "    \n",
    "    #in some circanstances, viriants may be split to two lines. join the two lines\n",
    "    pattern_VARIANT = r\"^(c|p)\\.[A-Za-z0-9()>*=]+\"\n",
    "    i = 0\n",
    "    while (i<len(lines)):\n",
    "        if i+1==len(lines) :\n",
    "            break\n",
    "        match_c = re.match(pattern_VARIANT,lines[i])\n",
    "        match_p = re.match(pattern_VARIANT,lines[i+1])\n",
    "        if match_c and match_p:\n",
    "            temp = lines.pop(i+1)\n",
    "            lines[i] = lines[i] + \", \" + temp\n",
    "        i+=1\n",
    "\n",
    "    #put result into a dictionary\n",
    "    j = 0\n",
    "    while (j<len(lines)):\n",
    "        dic = {}\n",
    "        dic[header[0]] = lines[j]\n",
    "        dic[header[1]] = lines[j+1]\n",
    "        dic[header[2]] = lines[j+2]\n",
    "        dic[header[3]] = lines[j+3]\n",
    "        dic[header[4]] = lines[j+4]\n",
    "        result.append(dic)\n",
    "        j = j+5\n",
    "    return result\n",
    "    \n",
    "with open(fname + \".txt\", \"r\", encoding='utf-8') as f:\n",
    "    text = f.read()\n",
    "    a = extract_variants(text)\n",
    "    print(a)"
   ]
  },
  {
   "cell_type": "code",
   "execution_count": 11,
   "id": "51a6e8df",
   "metadata": {},
   "outputs": [],
   "source": [
    "import json "
   ]
  },
  {
   "cell_type": "code",
   "execution_count": 12,
   "id": "fd789269",
   "metadata": {},
   "outputs": [
    {
     "name": "stdout",
     "output_type": "stream",
     "text": [
      "['ASSUMED ORIGIN', 'GENE', 'VARIANT', 'VRF', 'CLINICAL SIGNIFICANCE IN AML']\n"
     ]
    }
   ],
   "source": [
    "#convert python dic to json object\n",
    "with open(fname + \".txt\", \"r\", encoding='utf-8') as f:\n",
    "    text = f.read()\n",
    "    patient_info = extract_patient_info(text)\n",
    "    reportable_variants = extract_variants(text)\n",
    "    \n",
    "    dic = {\"patient_info\":patient_info, \"reportable_variants\":reportable_variants }\n",
    "    result = json.dumps(dic, indent = 3)\n",
    "    #print(result)\n",
    "    jsonFile = open(fname+\".json\", \"w\")\n",
    "    jsonFile.write(result)\n",
    "    jsonFile.close()\n",
    "    "
   ]
  },
  {
   "cell_type": "code",
   "execution_count": 13,
   "id": "ef05e8c7",
   "metadata": {},
   "outputs": [
    {
     "name": "stdout",
     "output_type": "stream",
     "text": [
      "['ASSUMED ORIGIN', 'GENE', 'VARIANT', 'VRF', 'CLINICAL SIGNIFICANCE IN AML']\n"
     ]
    }
   ],
   "source": [
    "import csv\n",
    "with open(fname + \".txt\", \"r\", encoding='utf-8') as f:\n",
    "    text = f.read()\n",
    "    patient_info = extract_patient_info(text)\n",
    "    reportable_variants = extract_variants(text)\n",
    "    dic = {\"patient_info\":patient_info, \"reportable_variants\":reportable_variants }\n",
    "    \n",
    "    csvFile = open(fname+\".csv\", \"w\")\n",
    "    writer = csv.writer(csvFile)\n",
    "    writer.writerow(dic.keys())\n",
    "    writer.writerow(dic.values())\n",
    "    csvFile.close()\n"
   ]
  },
  {
   "cell_type": "code",
   "execution_count": 14,
   "id": "1cd9d854",
   "metadata": {},
   "outputs": [],
   "source": [
    "#remove the txt\n",
    "import os\n",
    "os.remove(fname+\".txt\")"
   ]
  },
  {
   "cell_type": "code",
   "execution_count": null,
   "id": "24c9e627",
   "metadata": {},
   "outputs": [],
   "source": []
  },
  {
   "cell_type": "code",
   "execution_count": null,
   "id": "6625a1ed",
   "metadata": {},
   "outputs": [],
   "source": []
  }
 ],
 "metadata": {
  "kernelspec": {
   "display_name": "Python 3 (ipykernel)",
   "language": "python",
   "name": "python3"
  },
  "language_info": {
   "codemirror_mode": {
    "name": "ipython",
    "version": 3
   },
   "file_extension": ".py",
   "mimetype": "text/x-python",
   "name": "python",
   "nbconvert_exporter": "python",
   "pygments_lexer": "ipython3",
   "version": "3.10.9"
  }
 },
 "nbformat": 4,
 "nbformat_minor": 5
}
