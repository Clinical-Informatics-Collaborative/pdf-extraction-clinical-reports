{
 "cells": [
  {
   "cell_type": "markdown",
   "id": "7fa798ee",
   "metadata": {},
   "source": [
    "official doc: https://docxtpl.readthedocs.io/en/latest/index.html#  --\n",
    "tutorial1: https://www.youtube.com/watch?v=mJc5gAnnlVQ&t=764s -- \n",
    "tutorial2: https://www.youtube.com/watch?v=ZAVHbDB5yBQ"
   ]
  },
  {
   "cell_type": "code",
   "execution_count": 27,
   "id": "6cdd2222",
   "metadata": {
    "scrolled": false
   },
   "outputs": [],
   "source": [
    "#pip install docxtpl"
   ]
  },
  {
   "cell_type": "code",
   "execution_count": 28,
   "id": "9e8798be",
   "metadata": {},
   "outputs": [],
   "source": [
    "#pip install docx2pdf"
   ]
  },
  {
   "cell_type": "code",
   "execution_count": 29,
   "id": "d45fc3e9",
   "metadata": {},
   "outputs": [],
   "source": [
    "import json\n",
    "import os\n",
    "from docxtpl import DocxTemplate, InlineImage"
   ]
  },
  {
   "cell_type": "code",
   "execution_count": 32,
   "id": "ddb79680",
   "metadata": {},
   "outputs": [],
   "source": [
    "report_word=\"report_word\"\n",
    "report_pdf=\"report_pdf\"\n",
    "#create folders to store generated files\n",
    "if not os.path.isdir(report_word):\n",
    "    os.mkdir(report_word)\n",
    "if not os.path.isdir(report_pdf):\n",
    "    os.mkdir(report_pdf)\n"
   ]
  },
  {
   "cell_type": "code",
   "execution_count": 33,
   "id": "95a15017",
   "metadata": {},
   "outputs": [],
   "source": [
    "def write_to_template(template):\n",
    "    doc = DocxTemplate(template)\n",
    "    context = data\n",
    "    doc.render(context)\n",
    "    file = os.path.join(report_word,filename)\n",
    "    doc.save(file + \".docx\")\n",
    "\n",
    "#template = \"Wehi_template.docx\"\n",
    "#template = \"testtemplate.docx\""
   ]
  },
  {
   "cell_type": "code",
   "execution_count": 34,
   "id": "8b649503",
   "metadata": {},
   "outputs": [
    {
     "name": "stdout",
     "output_type": "stream",
     "text": [
      "data0.json\n",
      "data1.json\n",
      "data2.json\n",
      "data3.json\n",
      "data4.json\n",
      "data5.json\n",
      "data6.json\n",
      "data7.json\n",
      "data8.json\n",
      "data9.json\n"
     ]
    }
   ],
   "source": [
    "#convert all json to word\n",
    "for filename in os.listdir(\"generated_json\"):\n",
    "    print(filename)\n",
    "    file = os.path.join(\"generated_json\",filename)\n",
    "    if filename.endswith(\".json\"):\n",
    "        f = open(file)\n",
    "        data = json.load(f)\n",
    "        template = \"PeterMac.docx\"\n",
    "        write_to_template(template)\n",
    "        f.close()"
   ]
  },
  {
   "cell_type": "code",
   "execution_count": 35,
   "id": "1bca9d4d",
   "metadata": {},
   "outputs": [
    {
     "data": {
      "application/vnd.jupyter.widget-view+json": {
       "model_id": "1e0d596837bc4bca91390ac7450bd79c",
       "version_major": 2,
       "version_minor": 0
      },
      "text/plain": [
       "  0%|          | 0/10 [00:00<?, ?it/s]"
      ]
     },
     "metadata": {},
     "output_type": "display_data"
    }
   ],
   "source": [
    "#convert word docs to pdf\n",
    "#may take some time?\n",
    "convert(report_word, report_pdf)"
   ]
  }
 ],
 "metadata": {
  "kernelspec": {
   "display_name": "Python 3 (ipykernel)",
   "language": "python",
   "name": "python3"
  },
  "language_info": {
   "codemirror_mode": {
    "name": "ipython",
    "version": 3
   },
   "file_extension": ".py",
   "mimetype": "text/x-python",
   "name": "python",
   "nbconvert_exporter": "python",
   "pygments_lexer": "ipython3",
   "version": "3.10.9"
  }
 },
 "nbformat": 4,
 "nbformat_minor": 5
}
