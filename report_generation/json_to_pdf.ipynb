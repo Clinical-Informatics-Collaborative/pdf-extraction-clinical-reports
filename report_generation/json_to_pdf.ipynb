{
 "cells": [
  {
   "cell_type": "markdown",
   "id": "7fa798ee",
   "metadata": {},
   "source": [
    "official doc: https://docxtpl.readthedocs.io/en/latest/index.html#  --\n",
    "tutorial1: https://www.youtube.com/watch?v=mJc5gAnnlVQ&t=764s -- \n",
    "tutorial2: https://www.youtube.com/watch?v=ZAVHbDB5yBQ"
   ]
  },
  {
   "cell_type": "code",
   "execution_count": 2,
   "id": "6cdd2222",
   "metadata": {
    "scrolled": false
   },
   "outputs": [
    {
     "name": "stdout",
     "output_type": "stream",
     "text": [
      "Requirement already satisfied: docxtpl in c:\\users\\rosa0\\anaconda3\\lib\\site-packages (0.16.6)\n",
      "Requirement already satisfied: jinja2 in c:\\users\\rosa0\\anaconda3\\lib\\site-packages (from docxtpl) (3.1.2)\n",
      "Requirement already satisfied: python-docx in c:\\users\\rosa0\\anaconda3\\lib\\site-packages (from docxtpl) (0.8.11)\n",
      "Requirement already satisfied: docxcompose in c:\\users\\rosa0\\anaconda3\\lib\\site-packages (from docxtpl) (1.4.0)\n",
      "Requirement already satisfied: lxml in c:\\users\\rosa0\\anaconda3\\lib\\site-packages (from docxtpl) (4.9.1)\n",
      "Requirement already satisfied: six in c:\\users\\rosa0\\anaconda3\\lib\\site-packages (from docxtpl) (1.16.0)\n",
      "Requirement already satisfied: setuptools in c:\\users\\rosa0\\anaconda3\\lib\\site-packages (from docxcompose->docxtpl) (65.6.3)\n",
      "Requirement already satisfied: babel in c:\\users\\rosa0\\anaconda3\\lib\\site-packages (from docxcompose->docxtpl) (2.11.0)\n",
      "Requirement already satisfied: MarkupSafe>=2.0 in c:\\users\\rosa0\\anaconda3\\lib\\site-packages (from jinja2->docxtpl) (2.1.1)\n",
      "Requirement already satisfied: pytz>=2015.7 in c:\\users\\rosa0\\anaconda3\\lib\\site-packages (from babel->docxcompose->docxtpl) (2022.7)\n",
      "Note: you may need to restart the kernel to use updated packages.\n"
     ]
    }
   ],
   "source": [
    "pip install docxtpl"
   ]
  },
  {
   "cell_type": "code",
   "execution_count": 3,
   "id": "9e8798be",
   "metadata": {},
   "outputs": [
    {
     "name": "stdout",
     "output_type": "stream",
     "text": [
      "Requirement already satisfied: docx2pdf in c:\\users\\rosa0\\anaconda3\\lib\\site-packages (0.1.8)\n",
      "Requirement already satisfied: tqdm>=4.41.0 in c:\\users\\rosa0\\anaconda3\\lib\\site-packages (from docx2pdf) (4.64.1)\n",
      "Requirement already satisfied: pywin32>=227 in c:\\users\\rosa0\\anaconda3\\lib\\site-packages (from docx2pdf) (305.1)\n",
      "Requirement already satisfied: colorama in c:\\users\\rosa0\\anaconda3\\lib\\site-packages (from tqdm>=4.41.0->docx2pdf) (0.4.6)\n",
      "Note: you may need to restart the kernel to use updated packages.\n"
     ]
    }
   ],
   "source": [
    "pip install docx2pdf"
   ]
  },
  {
   "cell_type": "code",
   "execution_count": 7,
   "id": "d45fc3e9",
   "metadata": {},
   "outputs": [],
   "source": [
    "import json\n",
    "import os\n",
    "from docxtpl import DocxTemplate, InlineImage\n",
    "from docx2pdf import convert"
   ]
  },
  {
   "cell_type": "code",
   "execution_count": 8,
   "id": "ddb79680",
   "metadata": {},
   "outputs": [],
   "source": [
    "report_word=\"report_word\"\n",
    "report_pdf=\"report_pdf\"\n",
    "#create folders to store generated files\n",
    "if not os.path.isdir(report_word):\n",
    "    os.mkdir(report_word)\n",
    "if not os.path.isdir(report_pdf):\n",
    "    os.mkdir(report_pdf)\n"
   ]
  },
  {
   "cell_type": "code",
   "execution_count": 9,
   "id": "95a15017",
   "metadata": {},
   "outputs": [],
   "source": [
    "def write_to_template(template):\n",
    "    doc = DocxTemplate(template)\n",
    "    context = data\n",
    "    doc.render(context)\n",
    "    file = os.path.join(report_word,filename)\n",
    "    doc.save(file + \".docx\")\n"
   ]
  },
  {
   "cell_type": "code",
   "execution_count": 10,
   "id": "8b649503",
   "metadata": {},
   "outputs": [
    {
     "name": "stdout",
     "output_type": "stream",
     "text": [
      "data0.json\n",
      "data1.json\n",
      "data2.json\n",
      "data3.json\n",
      "data4.json\n",
      "data5.json\n",
      "data6.json\n",
      "data7.json\n",
      "data8.json\n",
      "data9.json\n"
     ]
    }
   ],
   "source": [
    "#convert all json to word\n",
    "t1 = \"WEHI.docx\"\n",
    "t2=\"PeterMac.docx\"\n",
    "template =  t1\n",
    "for filename in os.listdir(\"generated_json\"):\n",
    "    print(filename)\n",
    "    file = os.path.join(\"generated_json\",filename)\n",
    "    if filename.endswith(\".json\"):\n",
    "        f = open(file)\n",
    "        data = json.load(f)\n",
    "        write_to_template(template)\n",
    "        f.close()"
   ]
  },
  {
   "cell_type": "code",
   "execution_count": 13,
   "id": "2291e098",
   "metadata": {},
   "outputs": [
    {
     "name": "stdout",
     "output_type": "stream",
     "text": [
      "data0.json\n",
      "data1.json\n",
      "data2.json\n",
      "data3.json\n",
      "data4.json\n",
      "data5.json\n",
      "data6.json\n",
      "data7.json\n",
      "data8.json\n",
      "data9.json\n"
     ]
    }
   ],
   "source": [
    "#convert all json to word\n",
    "template = t1\n",
    "for filename in os.listdir(\"generated_json\"):\n",
    "    print(filename)\n",
    "    file = os.path.join(\"generated_json\",filename)\n",
    "    if filename.endswith(\".json\"):\n",
    "        f = open(file)\n",
    "        data = json.load(f)\n",
    "        write_to_template(template)\n",
    "        f.close()"
   ]
  },
  {
   "cell_type": "code",
   "execution_count": 16,
   "id": "1bca9d4d",
   "metadata": {},
   "outputs": [
    {
     "data": {
      "application/vnd.jupyter.widget-view+json": {
       "model_id": "57ff65b569de48dfa202f930d6bbc991",
       "version_major": 2,
       "version_minor": 0
      },
      "text/plain": [
       "  0%|          | 0/10 [00:00<?, ?it/s]"
      ]
     },
     "metadata": {},
     "output_type": "display_data"
    }
   ],
   "source": [
    "#convert word docs to pdf\n",
    "#may take some time?\n",
    "convert(report_word, report_pdf)"
   ]
  },
  {
   "cell_type": "code",
   "execution_count": null,
   "id": "42fa7b40",
   "metadata": {},
   "outputs": [],
   "source": []
  }
 ],
 "metadata": {
  "kernelspec": {
   "display_name": "Python 3 (ipykernel)",
   "language": "python",
   "name": "python3"
  },
  "language_info": {
   "codemirror_mode": {
    "name": "ipython",
    "version": 3
   },
   "file_extension": ".py",
   "mimetype": "text/x-python",
   "name": "python",
   "nbconvert_exporter": "python",
   "pygments_lexer": "ipython3",
   "version": "3.10.9"
  }
 },
 "nbformat": 4,
 "nbformat_minor": 5
}
